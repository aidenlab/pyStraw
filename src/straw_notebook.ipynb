{
 "cells": [
  {
   "cell_type": "code",
   "execution_count": 2,
   "metadata": {},
   "outputs": [],
   "source": [
    "from straw import straw\n"
   ]
  },
  {
   "cell_type": "code",
   "execution_count": 3,
   "metadata": {},
   "outputs": [
    {
     "name": "stdout",
     "output_type": "stream",
     "text": [
      "Help on module straw.straw in straw:\n",
      "\n",
      "NAME\n",
      "    straw.straw - Straw module\n",
      "\n",
      "DESCRIPTION\n",
      "    Straw enables programmatic access to .hic files.\n",
      "    .hic files store the contact matrices from Hi-C experiments and the\n",
      "    normalization and expected vectors, along with meta-data in the header.\n",
      "    \n",
      "    The main function, straw, takes in the normalization, the filename or URL,\n",
      "    chromosome1 (and optional range), chromosome2 (and optional range),\n",
      "    whether the bins desired are fragment or base pair delimited, and bin size.\n",
      "    \n",
      "    It then reads the header, follows the various pointers to the desired matrix\n",
      "    and normalization vector, and stores as [x, y, count]\n",
      "    \n",
      "    Usage: straw <NONE/VC/VC_SQRT/KR> <hicFile(s)> <chr1>[:x1:x2] <chr2>[:y1:y2] <BP/FRAG> <binsize>\n",
      "    \n",
      "    Example:\n",
      "    >>>import straw\n",
      "    >>>result = straw.straw('NONE', 'HIC001.hic', 'X', 'X', 'BP', 1000000)\n",
      "    >>>for i in range(len(result[0])):\n",
      "    ...   print(\"{0}        {1}     {2}\".format(result[0][i], result[1][i], result[2][i]))\n",
      "    \n",
      "    See https://github.com/theaidenlab/straw/wiki/Python for more documentation\n",
      "\n",
      "FUNCTIONS\n",
      "    getBlockNumbersForRegionFromBinPosition(regionIndices, blockBinCount, blockColumnCount, intra)\n",
      "        Gets the block numbers we will need for a specific region; used when\n",
      "        the range to extract is sent in as a parameter\n",
      "        \n",
      "        Args:\n",
      "           regionIndices (array): Array of ints giving range\n",
      "           blockBinCount (int): The block bin count of the matrix\n",
      "           blockColumnCount (int): The block column count of the matrix\n",
      "           intra: Flag indicating if this is an intrachromosomal matrix\n",
      "        \n",
      "        Returns:\n",
      "           blockSet (set): A set of blocks to print\n",
      "    \n",
      "    printme(norm, infile, chr1loc, chr2loc, unit, binsize, outfile)\n",
      "        Reads a .hic file and extracts and prints the given contact matrix\n",
      "        to a text file\n",
      "        \n",
      "        Args:\n",
      "           norm(str): Normalization type, one of VC, KR, VC_SQRT, or NONE\n",
      "           infile(str): File name or URL of .hic file\n",
      "           chr1loc(str): Chromosome name and (optionally) range, i.e. \"1\" or \"1:10000:25000\"\n",
      "           chr2loc(str): Chromosome name and (optionally) range, i.e. \"1\" or \"1:10000:25000\"\n",
      "           unit(str): One of BP or FRAG\n",
      "           binsize(int): Resolution, i.e. 25000 for 25K\n",
      "           outfile(str): Name of text file to write to\n",
      "    \n",
      "    readBlock(req, size)\n",
      "        Reads the block - reads the compressed bytes, decompresses, and stores\n",
      "        results in array. Presumes file pointer is in correct position.\n",
      "        \n",
      "        Args:\n",
      "           req (file): File to read from. Presumes file pointer is in correct\n",
      "           position\n",
      "           size (int): How many bytes to read\n",
      "        \n",
      "        Returns:\n",
      "           array containing row, column, count data for this block\n",
      "    \n",
      "    readFooter(req, c1, c2, norm, unit, resolution)\n",
      "        Reads the footer, which contains all the expected and normalization\n",
      "        vectors. Presumes file pointer is in correct position\n",
      "        Args:\n",
      "           req (file): File to read from; presumes file pointer is in correct\n",
      "           position\n",
      "           chr1 (str): Chromosome 1\n",
      "           chr2 (str): Chromosome 2\n",
      "           norm (str): Normalization type, one of NONE, VC, KR, VC_SQRT\n",
      "           unit (str): One of BP or FRAG\n",
      "           resolution (int): Bin size\n",
      "        \n",
      "        Returns:\n",
      "           list: File position of matrix, position+size chr1 normalization vector,\n",
      "                 position+size chr2 normalization vector\n",
      "    \n",
      "    readHeader(req, chr1, chr2, posilist)\n",
      "        Reads the header\n",
      "        \n",
      "        Args:\n",
      "           req (file): File to read from\n",
      "           chr1 (str): Chromosome 1\n",
      "           chr2 (str): Chromosome 2\n",
      "           c1pos1 (int, optional): Starting range of chromosome1 output\n",
      "           c1pos2 (int, optional): Stopping range of chromosome1 output\n",
      "           c2pos1 (int, optional): Starting range of chromosome2 output\n",
      "           c2pos2 (int, optional): Stopping range of chromosome2 output\n",
      "        \n",
      "        Returns:\n",
      "           list: master index, chromosome1 index, chromosome2 index\n",
      "    \n",
      "    readMatrix(req, unit, binsize)\n",
      "        Reads the matrix - that is, finds the appropriate pointers to block\n",
      "        data and stores them. Needs to read through headers of zoom data to find\n",
      "        appropriate matrix. Presumes file pointer is in correct position.\n",
      "        \n",
      "        Args:\n",
      "           req (file): File to read from; presumes file pointer is in correct\n",
      "           position\n",
      "           unit (str): Unit to search for (BP or FRAG)\n",
      "           binsize (int): Resolution to search for\n",
      "        \n",
      "        Returns:\n",
      "           list containing block bin count and block column count of matrix\n",
      "    \n",
      "    readMatrixZoomData(req, myunit, mybinsize)\n",
      "        Reads the Matrix Zoom Data, which gives pointer list for blocks for\n",
      "        the data. Presumes file pointer is in correct position\n",
      "        \n",
      "        Args:\n",
      "           req (file): File to read from; presumes file pointer is in correct\n",
      "           position\n",
      "           myunit (str): Unit (BP or FRAG) we're searching for\n",
      "           mybinsize (int): Resolution we're searching for\n",
      "        \n",
      "        Returns:\n",
      "           list containing boolean indicating if we found appropriate matrix,\n",
      "           and if so, the counts for the bins and columns\n",
      "    \n",
      "    readNormalizationVector(req)\n",
      "        Reads the normalization vector from the file; presumes file pointer is\n",
      "        in correct position\n",
      "        \n",
      "        Args:\n",
      "           req (file): File to read from; presumes file pointer is in correct\n",
      "           position\n",
      "        \n",
      "        Returns:\n",
      "          Array of normalization values\n",
      "    \n",
      "    straw(norm, infile, chr1loc, chr2loc, unit, binsize)\n",
      "        This is the main workhorse method of the module. Reads a .hic file and\n",
      "        extracts the given contact matrix. Stores in an array in sparse upper\n",
      "        triangular format: row, column, (normalized) count\n",
      "        \n",
      "        Args:\n",
      "           norm(str): Normalization type, one of VC, KR, VC_SQRT, or NONE\n",
      "           infile(str): File name or URL of .hic file\n",
      "           chr1loc(str): Chromosome name and (optionally) range, i.e. \"1\" or \"1:10000:25000\"\n",
      "           chr2loc(str): Chromosome name and (optionally) range, i.e. \"1\" or \"1:10000:25000\"\n",
      "           unit(str): One of BP or FRAG\n",
      "           binsize(int): Resolution, i.e. 25000 for 25K\n",
      "\n",
      "DATA\n",
      "    __license__ = 'MIT'\n",
      "    absolute_import = _Feature((2, 5, 0, 'alpha', 1), (3, 0, 0, 'alpha', 0...\n",
      "    blockMap = {}\n",
      "    division = _Feature((2, 2, 0, 'alpha', 2), (3, 0, 0, 'alpha', 0), 8192...\n",
      "    print_function = _Feature((2, 6, 0, 'alpha', 2), (3, 0, 0, 'alpha', 0)...\n",
      "    unicode_literals = _Feature((2, 6, 0, 'alpha', 2), (3, 0, 0, 'alpha', ...\n",
      "    version = 0\n",
      "\n",
      "AUTHOR\n",
      "    Yue Wu and Neva Durand\n",
      "\n",
      "FILE\n",
      "    /Users/nchernia/anaconda3/lib/python3.6/site-packages/straw/straw.py\n",
      "\n",
      "\n"
     ]
    }
   ],
   "source": [
    "help(straw)\n"
   ]
  },
  {
   "cell_type": "code",
   "execution_count": 4,
   "metadata": {},
   "outputs": [
    {
     "name": "stdout",
     "output_type": "stream",
     "text": [
      "HiC version:  7\n"
     ]
    }
   ],
   "source": [
    "result = straw.straw('NONE', 'https://hicfiles.s3.amazonaws.com/hiseq/gm12878/in-situ/HIC001.hic', 'X', 'X', 'BP', 1000000)"
   ]
  },
  {
   "cell_type": "code",
   "execution_count": 5,
   "metadata": {},
   "outputs": [
    {
     "name": "stdout",
     "output_type": "stream",
     "text": [
      "0        0     13464.0\n"
     ]
    }
   ],
   "source": [
    "print(\"{0}        {1}     {2}\".format(result[0][0], result[1][0], result[2][0]))"
   ]
  },
  {
   "cell_type": "code",
   "execution_count": 6,
   "metadata": {},
   "outputs": [
    {
     "name": "stdout",
     "output_type": "stream",
     "text": [
      "0        1000000     3938.0\n"
     ]
    }
   ],
   "source": [
    "print(\"{0}        {1}     {2}\".format(result[0][1], result[1][1], result[2][1]))"
   ]
  },
  {
   "cell_type": "code",
   "execution_count": null,
   "metadata": {},
   "outputs": [],
   "source": []
  }
 ],
 "metadata": {
  "kernelspec": {
   "display_name": "Python 3",
   "language": "python",
   "name": "python3"
  },
  "language_info": {
   "codemirror_mode": {
    "name": "ipython",
    "version": 3
   },
   "file_extension": ".py",
   "mimetype": "text/x-python",
   "name": "python",
   "nbconvert_exporter": "python",
   "pygments_lexer": "ipython3",
   "version": "3.6.6"
  }
 },
 "nbformat": 4,
 "nbformat_minor": 2
}
